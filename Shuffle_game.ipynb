{
  "metadata": {
    "kernelspec": {
      "name": "xpython",
      "display_name": "Python 3.13 (XPython)",
      "language": "python"
    },
    "language_info": {
      "file_extension": ".py",
      "mimetype": "text/x-python",
      "name": "python",
      "version": "3.13.1"
    }
  },
  "nbformat_minor": 5,
  "nbformat": 4,
  "cells": [
    {
      "id": "d2ce60aa-7461-4fce-8e55-fee8dca41f7b",
      "cell_type": "code",
      "source": "from random import shuffle",
      "metadata": {
        "trusted": true
      },
      "outputs": [],
      "execution_count": 2
    },
    {
      "id": "fe271229-e58a-4f78-8337-5263918a3fad",
      "cell_type": "code",
      "source": "#Function to return shufflelist\ndef shuffle_list(mylist):\n    shuffle(mylist)\n    return mylist\n",
      "metadata": {
        "trusted": true
      },
      "outputs": [],
      "execution_count": 3
    },
    {
      "id": "c3f6efff-4f7c-469d-8d33-6c3cfda2d9ca",
      "cell_type": "raw",
      "source": "result=shuffle_list(mylist)",
      "metadata": {}
    },
    {
      "id": "d75570b1-98b9-4400-be17-1950413bd204",
      "cell_type": "code",
      "source": "example=[2,3,5,6,7]",
      "metadata": {
        "trusted": true
      },
      "outputs": [],
      "execution_count": 4
    },
    {
      "id": "dbedbab6-d04b-4d4f-ba1a-606640f45ad3",
      "cell_type": "code",
      "source": "#Guess \ndef guesses():\n    g=''\n    while g not in('0','1','2'):\n     \n      g=input(\"Enter player guess as 0,1 or 2:\")\n        \n    return int(g)\n",
      "metadata": {
        "trusted": true
      },
      "outputs": [],
      "execution_count": 5
    },
    {
      "id": "4da38100-8090-451b-9864-ff9b29663da2",
      "cell_type": "code",
      "source": "#Guess_check\ndef guess_check(mylist,pg):\n     if(mylist[pg]=='o'):\n      print(\"Correct!!\")\n     else:\n      print(\"Incorrect!!\")",
      "metadata": {
        "trusted": true
      },
      "outputs": [],
      "execution_count": 6
    },
    {
      "id": "00e5b846-c91c-44c3-a2bc-9be93e4e9648",
      "cell_type": "code",
      "source": "###### Intialize\nmy_olist=[' ','o',' ']\n#Shuffle list\nmix_list=shuffle_list(my_olist)\n#Guess\nguess=guesses()\n#Guess check\nresult=guess_check(mix_list,guess)\n\n",
      "metadata": {
        "trusted": true
      },
      "outputs": [
        {
          "output_type": "stream",
          "name": "stdin",
          "text": "Enter player guess as 0,1 or 2: 1\n"
        },
        {
          "name": "stdout",
          "output_type": "stream",
          "text": "Incorrect!!\n"
        }
      ],
      "execution_count": 7
    }
  ]
}