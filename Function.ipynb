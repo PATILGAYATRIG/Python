{
  "metadata": {
    "kernelspec": {
      "name": "python",
      "display_name": "Python (Pyodide)",
      "language": "python"
    },
    "language_info": {
      "codemirror_mode": {
        "name": "python",
        "version": 3
      },
      "file_extension": ".py",
      "mimetype": "text/x-python",
      "name": "python",
      "nbconvert_exporter": "python",
      "pygments_lexer": "ipython3",
      "version": "3.8"
    }
  },
  "nbformat_minor": 4,
  "nbformat": 4,
  "cells": [
    {
      "cell_type": "markdown",
      "source": "# Function Practice Exercises\n\nProblems are arranged in increasing difficulty:\n* Warmup - these can be solved using basic comparisons and methods\n* Level 1 - these may involve if/then conditional statements and simple methods\n* Level 2 - these may require iterating over sequences, usually with some kind of loop\n* Challenging - these will take some creativity to solve",
      "metadata": {}
    },
    {
      "cell_type": "markdown",
      "source": "## WARMUP SECTION:",
      "metadata": {}
    },
    {
      "cell_type": "markdown",
      "source": "#### LESSER OF TWO EVENS: Write a function that returns the lesser of two given numbers *if* both numbers are even, but returns the greater if one or both numbers are odd\n    lesser_of_two_evens(2,4) --> 2\n    lesser_of_two_evens(2,5) --> 5",
      "metadata": {}
    },
    {
      "cell_type": "code",
      "source": "def lesser_of_two_evens(a,b):\n    if(a%2==0 and b%2==0):\n       return min(a,b)\n    else:\n        return max(a,b)",
      "metadata": {
        "trusted": true
      },
      "outputs": [],
      "execution_count": 14
    },
    {
      "cell_type": "code",
      "source": "# Check\nlesser_of_two_evens(2,4)",
      "metadata": {
        "trusted": true
      },
      "outputs": [
        {
          "execution_count": 15,
          "output_type": "execute_result",
          "data": {
            "text/plain": "2"
          },
          "metadata": {}
        }
      ],
      "execution_count": 15
    },
    {
      "cell_type": "code",
      "source": "# Check\nlesser_of_two_evens(2,5)",
      "metadata": {
        "trusted": true
      },
      "outputs": [
        {
          "execution_count": 16,
          "output_type": "execute_result",
          "data": {
            "text/plain": "5"
          },
          "metadata": {}
        }
      ],
      "execution_count": 16
    },
    {
      "cell_type": "markdown",
      "source": "#### ANIMAL CRACKERS: Write a function takes a two-word string and returns True if both words begin with same letter\n    animal_crackers('Levelheaded Llama') --> True\n    animal_crackers('Crazy Kangaroo') --> False",
      "metadata": {}
    },
    {
      "cell_type": "code",
      "source": "def animal_crackers(text):\n    text_new=text.split(' ')\n    return text_new[0][0]==text_new[1][0]\n    ",
      "metadata": {
        "trusted": true
      },
      "outputs": [],
      "execution_count": 17
    },
    {
      "cell_type": "code",
      "source": "# Check\nanimal_crackers('Levelheaded Llama')",
      "metadata": {
        "trusted": true
      },
      "outputs": [
        {
          "execution_count": 18,
          "output_type": "execute_result",
          "data": {
            "text/plain": "True"
          },
          "metadata": {}
        }
      ],
      "execution_count": 18
    },
    {
      "cell_type": "code",
      "source": "# Check\nanimal_crackers('Crazy Kangaroo')",
      "metadata": {
        "trusted": true
      },
      "outputs": [
        {
          "execution_count": 14,
          "output_type": "execute_result",
          "data": {
            "text/plain": "False"
          },
          "metadata": {}
        }
      ],
      "execution_count": 14
    },
    {
      "cell_type": "markdown",
      "source": "#### MAKES TWENTY: Given two integers, return True if the sum of the integers is 20 *or* if one of the integers is 20. If not, return False\n\n    makes_twenty(20,10) --> True\n    makes_twenty(12,8) --> True\n    makes_twenty(2,3) --> False",
      "metadata": {}
    },
    {
      "cell_type": "code",
      "source": "def makes_twenty(a,b):\n    return (a+b)==20 or a==20 or b==20",
      "metadata": {
        "trusted": true
      },
      "outputs": [],
      "execution_count": 17
    },
    {
      "cell_type": "code",
      "source": "# Check\nmakes_twenty(20,10)",
      "metadata": {
        "trusted": true
      },
      "outputs": [
        {
          "execution_count": 18,
          "output_type": "execute_result",
          "data": {
            "text/plain": "True"
          },
          "metadata": {}
        }
      ],
      "execution_count": 18
    },
    {
      "cell_type": "code",
      "source": "# Check\nmakes_twenty(2,3)",
      "metadata": {
        "trusted": true
      },
      "outputs": [
        {
          "execution_count": 19,
          "output_type": "execute_result",
          "data": {
            "text/plain": "False"
          },
          "metadata": {}
        }
      ],
      "execution_count": 19
    },
    {
      "cell_type": "markdown",
      "source": "# LEVEL 1 PROBLEMS",
      "metadata": {}
    },
    {
      "cell_type": "markdown",
      "source": "#### OLD MACDONALD: Write a function that capitalizes the first and fourth letters of a name\n     \n    old_macdonald('macdonald') --> MacDonald\n    \nNote: `'macdonald'.capitalize()` returns `'Macdonald'`",
      "metadata": {}
    },
    {
      "cell_type": "code",
      "source": "def old_macdonald(name):\n    if len(name) > 3:\n        return name[:3].capitalize() + name[3:].capitalize()\n    else:\n        return 'Name is too short!'\n    \n    ",
      "metadata": {
        "trusted": true
      },
      "outputs": [],
      "execution_count": 20
    },
    {
      "cell_type": "code",
      "source": "# Check\nold_macdonald('macdonald')",
      "metadata": {
        "trusted": true
      },
      "outputs": [
        {
          "execution_count": 21,
          "output_type": "execute_result",
          "data": {
            "text/plain": "'MacDonald'"
          },
          "metadata": {}
        }
      ],
      "execution_count": 21
    },
    {
      "cell_type": "markdown",
      "source": "#### MASTER YODA: Given a sentence, return a sentence with the words reversed\n\n    master_yoda('I am home') --> 'home am I'\n    master_yoda('We are ready') --> 'ready are We'\n    \nNote: The .join() method may be useful here. The .join() method allows you to join together strings in a list with some connector string. For example, some uses of the .join() method:\n\n    >>> \"--\".join(['a','b','c'])\n    >>> 'a--b--c'\n\nThis means if you had a list of words you wanted to turn back into a sentence, you could just join them with a single space string:\n\n    >>> \" \".join(['Hello','world'])\n    >>> \"Hello world\"",
      "metadata": {}
    },
    {
      "cell_type": "code",
      "source": "def master_yoda(text):\n     #print(text[::-1])\n    text_new=text.split()\n    text2=''\n    i=len(text_new)-1\n    while i>=0:\n       text2=text2+text_new[i]+\" \"\n       i=i-1\n    return text2\n    pass\n #return ' '.join(text.split()[::-1])",
      "metadata": {
        "trusted": true
      },
      "outputs": [],
      "execution_count": 26
    },
    {
      "cell_type": "code",
      "source": "# Check\nmaster_yoda('I am home')",
      "metadata": {
        "trusted": true
      },
      "outputs": [
        {
          "execution_count": 24,
          "output_type": "execute_result",
          "data": {
            "text/plain": "'home am I'"
          },
          "metadata": {}
        }
      ],
      "execution_count": 24
    },
    {
      "cell_type": "code",
      "source": "# Check\nmaster_yoda('We are ready')",
      "metadata": {
        "trusted": true
      },
      "outputs": [
        {
          "execution_count": 25,
          "output_type": "execute_result",
          "data": {
            "text/plain": "'ready are We'"
          },
          "metadata": {}
        }
      ],
      "execution_count": 25
    },
    {
      "cell_type": "markdown",
      "source": "#### ALMOST THERE: Given an integer n, return True if n is within 10 of either 100 or 200\n\n    almost_there(90) --> True\n    almost_there(104) --> True\n    almost_there(150) --> False\n    almost_there(209) --> True\n    \nNOTE: `abs(num)` returns the absolute value of a number",
      "metadata": {}
    },
    {
      "cell_type": "code",
      "source": "def almost_there(n):\n    return abs(100 - n) <= 10 or abs(200 - n) <= 10",
      "metadata": {
        "trusted": true
      },
      "outputs": [],
      "execution_count": 27
    },
    {
      "cell_type": "code",
      "source": "# Check\nalmost_there(104)",
      "metadata": {
        "trusted": true
      },
      "outputs": [
        {
          "execution_count": 28,
          "output_type": "execute_result",
          "data": {
            "text/plain": "True"
          },
          "metadata": {}
        }
      ],
      "execution_count": 28
    },
    {
      "cell_type": "code",
      "source": "# Check\nalmost_there(150)",
      "metadata": {
        "trusted": true
      },
      "outputs": [
        {
          "execution_count": 29,
          "output_type": "execute_result",
          "data": {
            "text/plain": "False"
          },
          "metadata": {}
        }
      ],
      "execution_count": 29
    },
    {
      "cell_type": "code",
      "source": "# Check\nalmost_there(209)",
      "metadata": {
        "trusted": true
      },
      "outputs": [
        {
          "execution_count": 66,
          "output_type": "execute_result",
          "data": {
            "text/plain": "True"
          },
          "metadata": {}
        }
      ],
      "execution_count": 69
    },
    {
      "cell_type": "markdown",
      "source": "# LEVEL 2 PROBLEMS",
      "metadata": {}
    },
    {
      "cell_type": "markdown",
      "source": "#### FIND 33: \n\nGiven a list of ints, return True if the array contains a 3 next to a 3 somewhere.\n\n    has_33([1, 3, 3]) → True\n    has_33([1, 3, 1, 3]) → False\n    has_33([3, 1, 3]) → False",
      "metadata": {}
    },
    {
      "cell_type": "code",
      "source": "def has_33(nums):\n    for i in range(len(nums) - 1):\n        j = i + 1\n        if nums[i] == 3 and nums[j] == 3:\n            return True\n    return False\n",
      "metadata": {
        "trusted": true
      },
      "outputs": [],
      "execution_count": 35
    },
    {
      "cell_type": "code",
      "source": "# Check\nhas_33([1, 3, 3])",
      "metadata": {
        "trusted": true
      },
      "outputs": [
        {
          "execution_count": 36,
          "output_type": "execute_result",
          "data": {
            "text/plain": "True"
          },
          "metadata": {}
        }
      ],
      "execution_count": 36
    },
    {
      "cell_type": "code",
      "source": "# Check\nhas_33([1, 3, 1, 3])",
      "metadata": {
        "trusted": true
      },
      "outputs": [
        {
          "execution_count": 37,
          "output_type": "execute_result",
          "data": {
            "text/plain": "False"
          },
          "metadata": {}
        }
      ],
      "execution_count": 37
    },
    {
      "cell_type": "code",
      "source": "# Check\nhas_33([3, 1, 3])",
      "metadata": {
        "trusted": true
      },
      "outputs": [
        {
          "execution_count": 38,
          "output_type": "execute_result",
          "data": {
            "text/plain": "False"
          },
          "metadata": {}
        }
      ],
      "execution_count": 38
    },
    {
      "cell_type": "markdown",
      "source": "#### PAPER DOLL: Given a string, return a string where for every character in the original there are three characters\n    paper_doll('Hello') --> 'HHHeeellllllooo'\n    paper_doll('Mississippi') --> 'MMMiiissssssiiippppppiii'",
      "metadata": {}
    },
    {
      "cell_type": "code",
      "source": "def paper_doll(text):\n    text_new=''\n    for i in text:\n        text_new=text_new+i*3\n\n    return text_new\n    pass",
      "metadata": {
        "trusted": true
      },
      "outputs": [],
      "execution_count": 39
    },
    {
      "cell_type": "code",
      "source": "# Check\npaper_doll('Hello')",
      "metadata": {
        "trusted": true
      },
      "outputs": [
        {
          "execution_count": 40,
          "output_type": "execute_result",
          "data": {
            "text/plain": "'HHHeeellllllooo'"
          },
          "metadata": {}
        }
      ],
      "execution_count": 40
    },
    {
      "cell_type": "code",
      "source": "# Check\npaper_doll('Mississippi')",
      "metadata": {
        "trusted": true
      },
      "outputs": [
        {
          "execution_count": 41,
          "output_type": "execute_result",
          "data": {
            "text/plain": "'MMMiiissssssiiissssssiiippppppiii'"
          },
          "metadata": {}
        }
      ],
      "execution_count": 41
    },
    {
      "cell_type": "markdown",
      "source": "#### BLACKJACK: Given three integers between 1 and 11, if their sum is less than or equal to 21, return their sum. If their sum exceeds 21 *and* there's an eleven, reduce the total sum by 10. Finally, if the sum (even after adjustment) exceeds 21, return 'BUST'\n    blackjack(5,6,7) --> 18\n    blackjack(9,9,9) --> 'BUST'\n    blackjack(9,9,11) --> 19",
      "metadata": {}
    },
    {
      "cell_type": "code",
      "source": "def blackjack(a, b, c):\n    sum = a + b + c\n    if sum <= 21:\n        return sum\n    elif sum > 21 and (a == 11 or b == 11 or c == 11):\n        return sum - 10\n    else:\n        return 'BUST'",
      "metadata": {
        "trusted": true
      },
      "outputs": [],
      "execution_count": 42
    },
    {
      "cell_type": "code",
      "source": "# Check\nblackjack(5,6,7)",
      "metadata": {
        "trusted": true
      },
      "outputs": [
        {
          "execution_count": 84,
          "output_type": "execute_result",
          "data": {
            "text/plain": "18"
          },
          "metadata": {}
        }
      ],
      "execution_count": 90
    },
    {
      "cell_type": "code",
      "source": "# Check\nblackjack(9,9,9)",
      "metadata": {
        "trusted": true
      },
      "outputs": [
        {
          "execution_count": 85,
          "output_type": "execute_result",
          "data": {
            "text/plain": "'BUST'"
          },
          "metadata": {}
        }
      ],
      "execution_count": 91
    },
    {
      "cell_type": "code",
      "source": "# Check\nblackjack(9,9,11)",
      "metadata": {
        "trusted": true
      },
      "outputs": [
        {
          "execution_count": 86,
          "output_type": "execute_result",
          "data": {
            "text/plain": "19"
          },
          "metadata": {}
        }
      ],
      "execution_count": 92
    },
    {
      "cell_type": "markdown",
      "source": "#### SUMMER OF '69: Return the sum of the numbers in the array, except ignore sections of numbers starting with a 6 and extending to the next 9 (every 6 will be followed by at least one 9). Return 0 for no numbers.\n \n    summer_69([1, 3, 5]) --> 9\n    summer_69([4, 5, 6, 7, 8, 9]) --> 9\n    summer_69([2, 1, 6, 9, 11]) --> 14",
      "metadata": {}
    },
    {
      "cell_type": "code",
      "source": "def summer_69(arr):\n    total = 0\n    add = True\n    for num in arr:\n        while add:\n            if num != 6:\n                total += num\n                break\n            else:\n                add = False\n        while not add:\n            if num != 9:\n                break\n            else:\n                add = True\n                break\n    return total",
      "metadata": {
        "trusted": true
      },
      "outputs": [],
      "execution_count": 50
    },
    {
      "cell_type": "code",
      "source": "# Check\nsummer_69([1, 3, 5])",
      "metadata": {
        "trusted": true
      },
      "outputs": [
        {
          "execution_count": 51,
          "output_type": "execute_result",
          "data": {
            "text/plain": "9"
          },
          "metadata": {}
        }
      ],
      "execution_count": 51
    },
    {
      "cell_type": "code",
      "source": "# Check\nsummer_69([4, 5, 6, 7, 8, 9])",
      "metadata": {
        "trusted": true
      },
      "outputs": [
        {
          "execution_count": 52,
          "output_type": "execute_result",
          "data": {
            "text/plain": "9"
          },
          "metadata": {}
        }
      ],
      "execution_count": 52
    },
    {
      "cell_type": "code",
      "source": "# Check\nsummer_69([2, 1, 6, 9, 11])",
      "metadata": {
        "trusted": true
      },
      "outputs": [
        {
          "execution_count": 53,
          "output_type": "execute_result",
          "data": {
            "text/plain": "14"
          },
          "metadata": {}
        }
      ],
      "execution_count": 53
    },
    {
      "cell_type": "markdown",
      "source": "# CHALLENGING PROBLEMS",
      "metadata": {}
    },
    {
      "cell_type": "markdown",
      "source": "#### SPY GAME: Write a function that takes in a list of integers and returns True if it contains 007 in order\n\n     spy_game([1,2,4,0,0,7,5]) --> True\n     spy_game([1,0,2,4,0,5,7]) --> True\n     spy_game([1,7,2,0,4,5,0]) --> False\n",
      "metadata": {}
    },
    {
      "cell_type": "code",
      "source": "def spy_game(nums):\n\n    code = [0,0,7,'x']\n    \n    for num in nums:\n        if num == code[0]:\n            code.pop(0)   # code.remove(num) also works\n       \n    return len(code) == 1",
      "metadata": {
        "trusted": true
      },
      "outputs": [],
      "execution_count": 10
    },
    {
      "cell_type": "code",
      "source": "# Check\nspy_game([1,2,4,0,0,7,5])",
      "metadata": {
        "trusted": true
      },
      "outputs": [
        {
          "execution_count": 11,
          "output_type": "execute_result",
          "data": {
            "text/plain": "True"
          },
          "metadata": {}
        }
      ],
      "execution_count": 11
    },
    {
      "cell_type": "code",
      "source": "# Check\nspy_game([1,0,2,4,0,5,7])",
      "metadata": {
        "trusted": true
      },
      "outputs": [
        {
          "execution_count": 12,
          "output_type": "execute_result",
          "data": {
            "text/plain": "True"
          },
          "metadata": {}
        }
      ],
      "execution_count": 12
    },
    {
      "cell_type": "code",
      "source": "# Check\nspy_game([1,7,2,0,4,5,0])",
      "metadata": {
        "trusted": true
      },
      "outputs": [
        {
          "execution_count": 13,
          "output_type": "execute_result",
          "data": {
            "text/plain": "False"
          },
          "metadata": {}
        }
      ],
      "execution_count": 13
    },
    {
      "cell_type": "markdown",
      "source": "#### COUNT PRIMES: Write a function that returns the *number* of prime numbers that exist up to and including a given number\n    count_primes(100) --> 25\n\nBy convention, 0 and 1 are not prime.",
      "metadata": {}
    },
    {
      "cell_type": "code",
      "source": "def count_primes(num):\n    count = 1  # Start with 1 to include the prime number 2\n    for i in range(3, num):\n        j = 2\n        while j < i:\n            if i % j == 0:\n                break\n            else:\n                if j == i - 1:\n                    count += 1\n            j += 1\n    return count",
      "metadata": {
        "trusted": true
      },
      "outputs": [],
      "execution_count": 8
    },
    {
      "cell_type": "code",
      "source": "# Check\ncount_primes(100)",
      "metadata": {
        "trusted": true
      },
      "outputs": [
        {
          "execution_count": 9,
          "output_type": "execute_result",
          "data": {
            "text/plain": "25"
          },
          "metadata": {}
        }
      ],
      "execution_count": 9
    },
    {
      "cell_type": "markdown",
      "source": "### Just for fun:\n#### PRINT BIG: Write a function that takes in a single letter, and returns a 5x5 representation of that letter\n    print_big('a')\n    \n    out:   *  \n          * *\n         *****\n         *   *\n         *   *\nHINT: Consider making a dictionary of possible patterns, and mapping the alphabet to specific 5-line combinations of patterns. <br>For purposes of this exercise, it's ok if your dictionary stops at \"E\".",
      "metadata": {}
    },
    {
      "cell_type": "code",
      "source": "def print_big(letter):\n    patterns = {1:'  *  ',2:' * * ',3:'*   *',4:'*****',5:'**** ',6:'   * ',7:' *   ',8:'*   * ',9:'*    '}\n    alphabet = {'A':[1,2,4,3,3],'B':[5,3,5,3,5],'C':[4,9,9,9,4],'D':[5,3,3,3,5],'E':[4,9,4,9,4]}\n    for pattern in alphabet[letter.upper()]:\n        print(patterns[pattern])",
      "metadata": {
        "trusted": true
      },
      "outputs": [],
      "execution_count": 19
    },
    {
      "cell_type": "code",
      "source": "print_big('a')",
      "metadata": {
        "trusted": true
      },
      "outputs": [
        {
          "name": "stdout",
          "output_type": "stream",
          "text": "  *  \n * * \n*****\n*   *\n*   *\n"
        }
      ],
      "execution_count": 20
    },
    {
      "cell_type": "markdown",
      "source": "## Great Job!",
      "metadata": {}
    },
    {
      "cell_type": "code",
      "source": "",
      "metadata": {
        "trusted": true
      },
      "outputs": [],
      "execution_count": null
    }
  ]
}