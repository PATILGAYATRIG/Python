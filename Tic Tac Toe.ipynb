{
  "metadata": {
    "kernelspec": {
      "name": "python",
      "display_name": "Python (Pyodide)",
      "language": "python"
    },
    "language_info": {
      "codemirror_mode": {
        "name": "python",
        "version": 3
      },
      "file_extension": ".py",
      "mimetype": "text/x-python",
      "name": "python",
      "nbconvert_exporter": "python",
      "pygments_lexer": "ipython3",
      "version": "3.8"
    }
  },
  "nbformat_minor": 4,
  "nbformat": 4,
  "cells": [
    {
      "cell_type": "markdown",
      "source": "___\n\n<a href='https://www.udemy.com/user/joseportilla/'><img src='../Pierian_Data_Logo.png'/></a>\n___\n<center><em>Content Copyright by Pierian Data</em></center>",
      "metadata": {}
    },
    {
      "cell_type": "markdown",
      "source": "# Milestone Project 1: Walkthrough Steps Workbook\n\nBelow is a set of steps for you to follow to try to create the Tic Tac Toe Milestone Project game!",
      "metadata": {}
    },
    {
      "cell_type": "code",
      "source": "",
      "metadata": {
        "trusted": true
      },
      "outputs": [],
      "execution_count": null
    },
    {
      "cell_type": "markdown",
      "source": "#### Some suggested tools before you get started:\nTo take input from a user:\n\n    player1 = input(\"Please pick a marker 'X' or 'O'\")\n    \nNote that input() takes in a string. If you need an integer value, use\n\n    position = int(input('Please enter a number'))\n    \n<br>To clear the screen between moves:\n\n    from IPython.display import clear_output\n    clear_output()\n    \nNote that clear_output() will only work in jupyter. To clear the screen in other IDEs, consider:\n\n    print('\\n'*100)\n    \nThis scrolls the previous board up out of view. Now on to the program!",
      "metadata": {
        "jp-MarkdownHeadingCollapsed": true
      }
    },
    {
      "cell_type": "markdown",
      "source": "**Step 1: Write a function that can print out a board. Set up your board as a list, where each index 1-9 corresponds with a number on a number pad, so you get a 3 by 3 board representation.**",
      "metadata": {}
    },
    {
      "cell_type": "code",
      "source": "from IPython.display import clear_output\n\ndef display_board(board):\n    clear_output()\n    print(board[1]+'|'+board[2]+'|'+board[3])\n    print('- - -')\n    print(board[4]+'|'+board[5]+'|'+board[6])\n    print('- - -')\n    print(board[7]+'|'+board[8]+'|'+board[9])\n    \n    \n    pass",
      "metadata": {
        "trusted": true
      },
      "outputs": [],
      "execution_count": 2
    },
    {
      "cell_type": "markdown",
      "source": "**TEST Step 1:** run your function on a test version of the board list, and make adjustments as necessary",
      "metadata": {}
    },
    {
      "cell_type": "code",
      "source": "test_board = ['#','X','O','X','O','X','O','X','O','X']\ndisplay_board(test_board)",
      "metadata": {
        "trusted": true
      },
      "outputs": [
        {
          "name": "stdout",
          "output_type": "stream",
          "text": "X|O|X\n- - -\nO|X|O\n- - -\nX|O|X\n"
        }
      ],
      "execution_count": 3
    },
    {
      "cell_type": "markdown",
      "source": "**Step 2: Write a function that can take in a player input and assign their marker as 'X' or 'O'. Think about using *while* loops to continually ask until you get a correct answer.**",
      "metadata": {}
    },
    {
      "cell_type": "code",
      "source": "from IPython.display import clear_output\nclear_output()\ndef player_input():\n    cho=''\n    while cho.upper() not in ['X','O']:\n        cho=input(\"Player 1 choose 'X' or 'O':\")\n        if cho=='X':\n            return('X','O')\n        else :\n            return('O','X')\n    pass",
      "metadata": {
        "trusted": true
      },
      "outputs": [],
      "execution_count": 4
    },
    {
      "cell_type": "markdown",
      "source": "**TEST Step 2:** run the function to make sure it returns the desired output",
      "metadata": {}
    },
    {
      "cell_type": "code",
      "source": "player_input()",
      "metadata": {
        "trusted": true
      },
      "outputs": [
        {
          "output_type": "stream",
          "name": "stdin",
          "text": "Player 1 choose 'X' or 'O': O\n"
        },
        {
          "execution_count": 5,
          "output_type": "execute_result",
          "data": {
            "text/plain": "('O', 'X')"
          },
          "metadata": {}
        }
      ],
      "execution_count": 5
    },
    {
      "cell_type": "markdown",
      "source": "**Step 3: Write a function that takes in the board list object, a marker ('X' or 'O'), and a desired position (number 1-9) and assigns it to the board.**",
      "metadata": {}
    },
    {
      "cell_type": "code",
      "source": "def place_marker(board, marker, position): \n    board[position]=marker\n    pass",
      "metadata": {
        "trusted": true
      },
      "outputs": [],
      "execution_count": 6
    },
    {
      "cell_type": "code",
      "source": "print(test_board)",
      "metadata": {
        "trusted": true
      },
      "outputs": [
        {
          "name": "stdout",
          "output_type": "stream",
          "text": "['#', 'X', 'O', 'X', 'O', 'X', 'O', 'X', 'O', 'X']\n"
        }
      ],
      "execution_count": 7
    },
    {
      "cell_type": "markdown",
      "source": "**TEST Step 3:** run the place marker function using test parameters and display the modified board",
      "metadata": {}
    },
    {
      "cell_type": "code",
      "source": "place_marker(test_board,'$',8)\ndisplay_board(test_board)",
      "metadata": {
        "trusted": true
      },
      "outputs": [
        {
          "name": "stdout",
          "output_type": "stream",
          "text": "X|O|X\n- - -\nO|X|O\n- - -\nX|$|X\n"
        }
      ],
      "execution_count": 8
    },
    {
      "cell_type": "markdown",
      "source": "**Step 4: Write a function that takes in a board and a mark (X or O) and then checks to see if that mark has won. **",
      "metadata": {}
    },
    {
      "cell_type": "code",
      "source": "def win_check(board, mark):\n    # Check rows, columns, and diagonals for a win\n    return((board[1] == board[2] == board[3] == mark) or\n        (board[4] == board[5] == board[6] == mark) or\n        (board[7] == board[8] == board[9] == mark) or\n        (board[1] == board[4] == board[7] == mark) or\n        (board[2] == board[5] == board[8] == mark) or\n        (board[3] == board[6] == board[9] == mark) or\n        (board[1] == board[5] == board[9] == mark) or\n        (board[3] == board[5] == board[7] == mark))",
      "metadata": {
        "trusted": true
      },
      "outputs": [],
      "execution_count": 9
    },
    {
      "cell_type": "markdown",
      "source": "**TEST Step 4:** run the win_check function against our test_board - it should return True",
      "metadata": {}
    },
    {
      "cell_type": "code",
      "source": "win_check(test_board,'O')",
      "metadata": {
        "trusted": true
      },
      "outputs": [
        {
          "execution_count": 10,
          "output_type": "execute_result",
          "data": {
            "text/plain": "False"
          },
          "metadata": {}
        }
      ],
      "execution_count": 10
    },
    {
      "cell_type": "markdown",
      "source": "**Step 5: Write a function that uses the random module to randomly decide which player goes first. You may want to lookup random.randint() Return a string of which player went first.**",
      "metadata": {}
    },
    {
      "cell_type": "code",
      "source": "import random\n\ndef choose_first():\n    mark=random.randint(1,2)\n    if(mark==1):\n        return 'Player 1'\n    else:\n        return 'Player 2'\n    pass",
      "metadata": {
        "trusted": true
      },
      "outputs": [],
      "execution_count": 11
    },
    {
      "cell_type": "markdown",
      "source": "**Step 6: Write a function that returns a boolean indicating whether a space on the board is freely available.**",
      "metadata": {}
    },
    {
      "cell_type": "code",
      "source": "def space_check(board, position):\n    return board[position]==' '\n      ",
      "metadata": {
        "trusted": true
      },
      "outputs": [],
      "execution_count": 12
    },
    {
      "cell_type": "markdown",
      "source": "**Step 7: Write a function that checks if the board is full and returns a boolean value. True if full, False otherwise.**",
      "metadata": {}
    },
    {
      "cell_type": "code",
      "source": "def full_board_check(board):\n    for i in range(1,10):\n        if(board[i]==' '):\n            return False\n    return True\n    pass",
      "metadata": {
        "trusted": true
      },
      "outputs": [],
      "execution_count": 13
    },
    {
      "cell_type": "markdown",
      "source": "**Step 8: Write a function that asks for a player's next position (as a number 1-9) and then uses the function from step 6 to check if it's a free position. If it is, then return the position for later use.**",
      "metadata": {}
    },
    {
      "cell_type": "code",
      "source": "def player_choice(board):\n    position = 0\n    \n    while position not in [1,2,3,4,5,6,7,8,9] or not space_check(board, position):\n        position = int(input('Choose your next position: (1-9) '))\n        \n    return position",
      "metadata": {
        "trusted": true
      },
      "outputs": [],
      "execution_count": 14
    },
    {
      "cell_type": "markdown",
      "source": "**Step 9: Write a function that asks the player if they want to play again and returns a boolean True if they do want to play again.**",
      "metadata": {}
    },
    {
      "cell_type": "code",
      "source": "def replay():\n    ch=input(\"Do you Want to play again(y/n): \")\n    return ch.lower()=='y'\n    pass",
      "metadata": {
        "trusted": true
      },
      "outputs": [],
      "execution_count": 15
    },
    {
      "cell_type": "markdown",
      "source": "**Step 10: Here comes the hard part! Use while loops and the functions you've made to run the game!**",
      "metadata": {
        "collapsed": true,
        "jupyter": {
          "outputs_hidden": true
        }
      }
    },
    {
      "cell_type": "code",
      "source": "print('Welcome to Tic Tac Toe!')\n\nwhile True:\n    # Set the game up here\n    the_board = [' '] * 10\n    player1, player2 = player_input()  # You need to define this function\n    turn = choose_first()              # You need to define this function\n    print(turn + \" will go first!\")\n\n    play_game = input(\"Ready to play? y/n \")\n    if play_game.lower() == 'y':\n        game_on = True\n    else:\n        game_on = False\n\n    while game_on:\n        if turn == 'Player 1':\n            # Player 1 Turn\n            display_board(the_board)  \n            pos = player_choice(the_board)\n            place_marker(the_board, player1, pos)  \n\n            if win_check(the_board, player1):  \n                display_board(the_board)\n                print(\"Player 1 is the winner!\")\n                game_on = False\n            elif full_board_check(the_board):  \n                print(\"It's a tie!\")\n                game_on = False\n            else:\n                turn = 'Player 2'\n        else:\n            # Player 2 Turn\n            display_board(the_board)\n            pos = player_choice(the_board)\n            place_marker(the_board, player2, pos)\n\n            if win_check(the_board, player2):\n                display_board(the_board)\n                print(\"Player 2 is the winner!\")\n                game_on = False\n            elif full_board_check(the_board):\n                print(\"It's a tie!\")\n                game_on = False\n            else:\n                turn = 'Player 1'\n\n    if not replay(): \n        break\n",
      "metadata": {
        "trusted": true
      },
      "outputs": [
        {
          "name": "stdout",
          "output_type": "stream",
          "text": "Welcome to Tic Tac Toe!\n"
        }
      ],
      "execution_count": null
    },
    {
      "cell_type": "markdown",
      "source": "## Good Job!",
      "metadata": {
        "collapsed": true,
        "jupyter": {
          "outputs_hidden": true
        }
      }
    }
  ]
}